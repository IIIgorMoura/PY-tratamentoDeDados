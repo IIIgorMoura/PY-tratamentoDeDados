{
 "cells": [
  {
   "cell_type": "code",
   "execution_count": 5,
   "metadata": {},
   "outputs": [
    {
     "data": {
      "text/html": [
       "<div>\n",
       "<style scoped>\n",
       "    .dataframe tbody tr th:only-of-type {\n",
       "        vertical-align: middle;\n",
       "    }\n",
       "\n",
       "    .dataframe tbody tr th {\n",
       "        vertical-align: top;\n",
       "    }\n",
       "\n",
       "    .dataframe thead th {\n",
       "        text-align: right;\n",
       "    }\n",
       "</style>\n",
       "<table border=\"1\" class=\"dataframe\">\n",
       "  <thead>\n",
       "    <tr style=\"text-align: right;\">\n",
       "      <th></th>\n",
       "      <th>Nome</th>\n",
       "      <th>Idade</th>\n",
       "      <th>Cidade</th>\n",
       "      <th>Salário</th>\n",
       "    </tr>\n",
       "  </thead>\n",
       "  <tbody>\n",
       "    <tr>\n",
       "      <th>0</th>\n",
       "      <td>Ana Silva</td>\n",
       "      <td>28.0</td>\n",
       "      <td>São Paulo</td>\n",
       "      <td>4500.0</td>\n",
       "    </tr>\n",
       "    <tr>\n",
       "      <th>1</th>\n",
       "      <td>Carlos Souza</td>\n",
       "      <td>NaN</td>\n",
       "      <td>Rio de Janeiro</td>\n",
       "      <td>6000.0</td>\n",
       "    </tr>\n",
       "    <tr>\n",
       "      <th>2</th>\n",
       "      <td>Mariana Lima</td>\n",
       "      <td>42.0</td>\n",
       "      <td>NaN</td>\n",
       "      <td>NaN</td>\n",
       "    </tr>\n",
       "    <tr>\n",
       "      <th>3</th>\n",
       "      <td>João Pereira</td>\n",
       "      <td>26.0</td>\n",
       "      <td>Curitiba</td>\n",
       "      <td>4000.0</td>\n",
       "    </tr>\n",
       "    <tr>\n",
       "      <th>4</th>\n",
       "      <td>Luciana Costa</td>\n",
       "      <td>NaN</td>\n",
       "      <td>Porto Alegre</td>\n",
       "      <td>5000.0</td>\n",
       "    </tr>\n",
       "  </tbody>\n",
       "</table>\n",
       "</div>"
      ],
      "text/plain": [
       "            Nome  Idade          Cidade  Salário\n",
       "0      Ana Silva   28.0       São Paulo   4500.0\n",
       "1   Carlos Souza    NaN  Rio de Janeiro   6000.0\n",
       "2   Mariana Lima   42.0             NaN      NaN\n",
       "3   João Pereira   26.0        Curitiba   4000.0\n",
       "4  Luciana Costa    NaN    Porto Alegre   5000.0"
      ]
     },
     "metadata": {},
     "output_type": "display_data"
    }
   ],
   "source": [
    "import pandas as pd\n",
    "import numpy as np\n",
    "\n",
    "# testando as extensões criando dataframes com lacunas\n",
    "data = {\n",
    "    \"Nome\": [\"Ana Silva\", \"Carlos Souza\", \"Mariana Lima\", \"João Pereira\", \"Luciana Costa\"],\n",
    "    \"Idade\": [28, np.nan, 42, 26, np.nan],\n",
    "    \"Cidade\": [\"São Paulo\", \"Rio de Janeiro\", np.nan, \"Curitiba\", \"Porto Alegre\"],\n",
    "    \"Salário\": [4500, 6000, np.nan, 4000, 5000]\n",
    "}\n",
    "\n",
    "df = pd.DataFrame(data)\n",
    "\n",
    "display(df)\n",
    "\n",
    "excelFile = \"dados_ausentes.xlsx\"\n",
    "\n",
    "# index True adiciona uma coluna de numeração, mesmo já existindo no excel\n",
    "df.to_excel(excelFile, index=False)\n"
   ]
  },
  {
   "cell_type": "code",
   "execution_count": null,
   "metadata": {},
   "outputs": [],
   "source": []
  }
 ],
 "metadata": {
  "kernelspec": {
   "display_name": "Python 3",
   "language": "python",
   "name": "python3"
  },
  "language_info": {
   "codemirror_mode": {
    "name": "ipython",
    "version": 3
   },
   "file_extension": ".py",
   "mimetype": "text/x-python",
   "name": "python",
   "nbconvert_exporter": "python",
   "pygments_lexer": "ipython3",
   "version": "3.12.1"
  }
 },
 "nbformat": 4,
 "nbformat_minor": 2
}
